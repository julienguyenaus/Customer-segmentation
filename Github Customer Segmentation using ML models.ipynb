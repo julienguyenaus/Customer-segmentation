version https://git-lfs.github.com/spec/v1
oid sha256:763f3d7abfa0f7d583f293a97ceac498e48f5eacfd7e662dc97210b27887670b
size 158255932
